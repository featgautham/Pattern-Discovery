{
  "nbformat": 4,
  "nbformat_minor": 0,
  "metadata": {
    "colab": {
      "name": "apriori_algorithm.ipynb",
      "provenance": [],
      "collapsed_sections": [],
      "toc_visible": true
    },
    "kernelspec": {
      "name": "python3",
      "display_name": "Python 3"
    }
  },
  "cells": [
    {
      "cell_type": "markdown",
      "metadata": {
        "id": "WEZMEI25iPBN",
        "colab_type": "text"
      },
      "source": [
        "# Introduction\n",
        "Apriori algorithm is used to identify frequent individual items, discover patterns between variables and learn the association rules in the data."
      ]
    },
    {
      "cell_type": "code",
      "metadata": {
        "id": "6loh44L48BoA",
        "colab_type": "code",
        "outputId": "83ca5688-f080-4744-d69f-fa5f3848ec5e",
        "colab": {
          "base_uri": "https://localhost:8080/",
          "height": 34
        }
      },
      "source": [
        "!pip install apyori"
      ],
      "execution_count": 1,
      "outputs": [
        {
          "output_type": "stream",
          "text": [
            "Requirement already satisfied: apyori in /usr/local/lib/python3.6/dist-packages (1.1.2)\n"
          ],
          "name": "stdout"
        }
      ]
    },
    {
      "cell_type": "markdown",
      "metadata": {
        "id": "5nO0hnL6lnBM",
        "colab_type": "text"
      },
      "source": [
        "# Data\n",
        "The provided input file (\"categories.txt\") consists of the category lists of 77,185 places in the US. Each line corresponds to the category list of one place, where the list consists of a number of category instances (e.g., hotels, restaurants, etc.) that are separated by semicolons. An example line is provided below: \n",
        "\n",
        "Local Services;IT Services & Computer Repair \n",
        "\n",
        "In the example above, the corresponding place has two category instances: \n",
        "\n",
        "\"Local Services\" and \"IT Services & Computer Repair\"."
      ]
    },
    {
      "cell_type": "code",
      "metadata": {
        "id": "VN9cZzxmnpPe",
        "colab_type": "code",
        "outputId": "4b3adc7b-ba36-410a-ecc6-d95e3edabbaf",
        "colab": {
          "base_uri": "https://localhost:8080/",
          "height": 206
        }
      },
      "source": [
        "import pandas as pd\n",
        "\n",
        "data = pd.read_csv('categories.csv')\n",
        "data.head()"
      ],
      "execution_count": 2,
      "outputs": [
        {
          "output_type": "execute_result",
          "data": {
            "text/html": [
              "<div>\n",
              "<style scoped>\n",
              "    .dataframe tbody tr th:only-of-type {\n",
              "        vertical-align: middle;\n",
              "    }\n",
              "\n",
              "    .dataframe tbody tr th {\n",
              "        vertical-align: top;\n",
              "    }\n",
              "\n",
              "    .dataframe thead th {\n",
              "        text-align: right;\n",
              "    }\n",
              "</style>\n",
              "<table border=\"1\" class=\"dataframe\">\n",
              "  <thead>\n",
              "    <tr style=\"text-align: right;\">\n",
              "      <th></th>\n",
              "      <th>Column1</th>\n",
              "      <th>Column2</th>\n",
              "      <th>Column3</th>\n",
              "      <th>Column4</th>\n",
              "      <th>Column5</th>\n",
              "      <th>Column6</th>\n",
              "      <th>Column7</th>\n",
              "      <th>Column8</th>\n",
              "    </tr>\n",
              "  </thead>\n",
              "  <tbody>\n",
              "    <tr>\n",
              "      <th>0</th>\n",
              "      <td>Breakfast &amp; Brunch</td>\n",
              "      <td>American (Traditional)</td>\n",
              "      <td>Restaurants</td>\n",
              "      <td>NaN</td>\n",
              "      <td>NaN</td>\n",
              "      <td>NaN</td>\n",
              "      <td>NaN</td>\n",
              "      <td>NaN</td>\n",
              "    </tr>\n",
              "    <tr>\n",
              "      <th>1</th>\n",
              "      <td>Sandwiches</td>\n",
              "      <td>Restaurants</td>\n",
              "      <td>NaN</td>\n",
              "      <td>NaN</td>\n",
              "      <td>NaN</td>\n",
              "      <td>NaN</td>\n",
              "      <td>NaN</td>\n",
              "      <td>NaN</td>\n",
              "    </tr>\n",
              "    <tr>\n",
              "      <th>2</th>\n",
              "      <td>Local Services</td>\n",
              "      <td>IT Services &amp; Computer Repair</td>\n",
              "      <td>NaN</td>\n",
              "      <td>NaN</td>\n",
              "      <td>NaN</td>\n",
              "      <td>NaN</td>\n",
              "      <td>NaN</td>\n",
              "      <td>NaN</td>\n",
              "    </tr>\n",
              "    <tr>\n",
              "      <th>3</th>\n",
              "      <td>Restaurants</td>\n",
              "      <td>Italian</td>\n",
              "      <td>NaN</td>\n",
              "      <td>NaN</td>\n",
              "      <td>NaN</td>\n",
              "      <td>NaN</td>\n",
              "      <td>NaN</td>\n",
              "      <td>NaN</td>\n",
              "    </tr>\n",
              "    <tr>\n",
              "      <th>4</th>\n",
              "      <td>Food</td>\n",
              "      <td>Coffee &amp; Tea</td>\n",
              "      <td>NaN</td>\n",
              "      <td>NaN</td>\n",
              "      <td>NaN</td>\n",
              "      <td>NaN</td>\n",
              "      <td>NaN</td>\n",
              "      <td>NaN</td>\n",
              "    </tr>\n",
              "  </tbody>\n",
              "</table>\n",
              "</div>"
            ],
            "text/plain": [
              "              Column1                        Column2  ... Column7 Column8\n",
              "0  Breakfast & Brunch         American (Traditional)  ...     NaN     NaN\n",
              "1          Sandwiches                    Restaurants  ...     NaN     NaN\n",
              "2      Local Services  IT Services & Computer Repair  ...     NaN     NaN\n",
              "3         Restaurants                        Italian  ...     NaN     NaN\n",
              "4                Food                   Coffee & Tea  ...     NaN     NaN\n",
              "\n",
              "[5 rows x 8 columns]"
            ]
          },
          "metadata": {
            "tags": []
          },
          "execution_count": 2
        }
      ]
    },
    {
      "cell_type": "markdown",
      "metadata": {
        "id": "413Npn3IoCtg",
        "colab_type": "text"
      },
      "source": [
        "#Data Transformation\n",
        "The Apriori algorithm cannot be implemented on a dataframe and requires it to be transformed as list of lists without NaN values for input."
      ]
    },
    {
      "cell_type": "code",
      "metadata": {
        "id": "tJLNQXWoykov",
        "colab_type": "code",
        "outputId": "f5071660-3748-4493-8260-0511dc3a9e4c",
        "colab": {
          "base_uri": "https://localhost:8080/",
          "height": 103
        }
      },
      "source": [
        "main_list=[]\n",
        "main_list = data.stack().groupby(level=0).apply(list).tolist()\n",
        "main_list[:5]"
      ],
      "execution_count": 3,
      "outputs": [
        {
          "output_type": "execute_result",
          "data": {
            "text/plain": [
              "[['Breakfast & Brunch', 'American (Traditional)', 'Restaurants'],\n",
              " ['Sandwiches', 'Restaurants'],\n",
              " ['Local Services', 'IT Services & Computer Repair'],\n",
              " ['Restaurants', 'Italian'],\n",
              " ['Food', 'Coffee & Tea']]"
            ]
          },
          "metadata": {
            "tags": []
          },
          "execution_count": 3
        }
      ]
    },
    {
      "cell_type": "markdown",
      "metadata": {
        "id": "Dvkuj3SK59Yz",
        "colab_type": "text"
      },
      "source": [
        "#Frequent Single Item Mining\n",
        "The association rules for single category items for each place is determined at a minimum relative support of 0.01."
      ]
    },
    {
      "cell_type": "code",
      "metadata": {
        "id": "mCh3_qsj4zDL",
        "colab_type": "code",
        "outputId": "12e3407f-2e0d-4f9a-b0c2-58a793b2b1dc",
        "colab": {
          "base_uri": "https://localhost:8080/",
          "height": 123
        }
      },
      "source": [
        "from apyori import apriori\n",
        "\n",
        "rules1 = apriori(main_list, min_support=0.01, max_length=1)\n",
        "results1 = list(rules1)\n",
        "\n",
        "results1[:5]"
      ],
      "execution_count": 4,
      "outputs": [
        {
          "output_type": "execute_result",
          "data": {
            "text/plain": [
              "[RelationRecord(items=frozenset({'Active Life'}), support=0.04020211180928937, ordered_statistics=[OrderedStatistic(items_base=frozenset(), items_add=frozenset({'Active Life'}), confidence=0.04020211180928937, lift=1.0)]),\n",
              " RelationRecord(items=frozenset({'American (New)'}), support=0.02063872514089525, ordered_statistics=[OrderedStatistic(items_base=frozenset(), items_add=frozenset({'American (New)'}), confidence=0.02063872514089525, lift=1.0)]),\n",
              " RelationRecord(items=frozenset({'American (Traditional)'}), support=0.03130141866943059, ordered_statistics=[OrderedStatistic(items_base=frozenset(), items_add=frozenset({'American (Traditional)'}), confidence=0.03130141866943059, lift=1.0)]),\n",
              " RelationRecord(items=frozenset({'Arts & Entertainment'}), support=0.02942281531385632, ordered_statistics=[OrderedStatistic(items_base=frozenset(), items_add=frozenset({'Arts & Entertainment'}), confidence=0.02942281531385632, lift=1.0)]),\n",
              " RelationRecord(items=frozenset({'Auto Repair'}), support=0.022232299021830666, ordered_statistics=[OrderedStatistic(items_base=frozenset(), items_add=frozenset({'Auto Repair'}), confidence=0.022232299021830666, lift=1.0)])]"
            ]
          },
          "metadata": {
            "tags": []
          },
          "execution_count": 4
        }
      ]
    },
    {
      "cell_type": "markdown",
      "metadata": {
        "id": "PNCndYBai2Yv",
        "colab_type": "text"
      },
      "source": [
        "The apriori algorithm outputs relative support, from which absolute support is found with 77,185 category lists."
      ]
    },
    {
      "cell_type": "code",
      "metadata": {
        "id": "4Gej-5_6LJW-",
        "colab_type": "code",
        "outputId": "700145fe-64b5-417e-8e95-8a8376e4014c",
        "colab": {
          "base_uri": "https://localhost:8080/",
          "height": 103
        }
      },
      "source": [
        "part1=[]\n",
        "\n",
        "for i in results1:\n",
        "  for j in i.ordered_statistics:\n",
        "    abs_support = int(i.support * 77185)\n",
        "    part1.append((str(abs_support)+':'+next(iter(i.items))))\n",
        "    \n",
        "part1[:5]"
      ],
      "execution_count": 5,
      "outputs": [
        {
          "output_type": "execute_result",
          "data": {
            "text/plain": [
              "['3103:Active Life',\n",
              " '1593:American (New)',\n",
              " '2416:American (Traditional)',\n",
              " '2271:Arts & Entertainment',\n",
              " '1716:Auto Repair']"
            ]
          },
          "metadata": {
            "tags": []
          },
          "execution_count": 5
        }
      ]
    },
    {
      "cell_type": "markdown",
      "metadata": {
        "id": "s4aXlCasHTmV",
        "colab_type": "text"
      },
      "source": [
        "#Frequent Itemset Mining\n",
        "The association rules for all category items for each place is determined at a minimum relative support of 0.01."
      ]
    },
    {
      "cell_type": "code",
      "metadata": {
        "id": "Y6UUH02vKOOy",
        "colab_type": "code",
        "outputId": "35233dbd-677c-4941-ef60-a8e5df4b92b4",
        "colab": {
          "base_uri": "https://localhost:8080/",
          "height": 123
        }
      },
      "source": [
        "rules2 = apriori(main_list, min_support=0.01)\n",
        "results2 = list(rules2)\n",
        "\n",
        "results2[:5]"
      ],
      "execution_count": 6,
      "outputs": [
        {
          "output_type": "execute_result",
          "data": {
            "text/plain": [
              "[RelationRecord(items=frozenset({'Active Life'}), support=0.04020211180928937, ordered_statistics=[OrderedStatistic(items_base=frozenset(), items_add=frozenset({'Active Life'}), confidence=0.04020211180928937, lift=1.0)]),\n",
              " RelationRecord(items=frozenset({'American (New)'}), support=0.02063872514089525, ordered_statistics=[OrderedStatistic(items_base=frozenset(), items_add=frozenset({'American (New)'}), confidence=0.02063872514089525, lift=1.0)]),\n",
              " RelationRecord(items=frozenset({'American (Traditional)'}), support=0.03130141866943059, ordered_statistics=[OrderedStatistic(items_base=frozenset(), items_add=frozenset({'American (Traditional)'}), confidence=0.03130141866943059, lift=1.0)]),\n",
              " RelationRecord(items=frozenset({'Arts & Entertainment'}), support=0.02942281531385632, ordered_statistics=[OrderedStatistic(items_base=frozenset(), items_add=frozenset({'Arts & Entertainment'}), confidence=0.02942281531385632, lift=1.0)]),\n",
              " RelationRecord(items=frozenset({'Auto Repair'}), support=0.022232299021830666, ordered_statistics=[OrderedStatistic(items_base=frozenset(), items_add=frozenset({'Auto Repair'}), confidence=0.022232299021830666, lift=1.0)])]"
            ]
          },
          "metadata": {
            "tags": []
          },
          "execution_count": 6
        }
      ]
    },
    {
      "cell_type": "code",
      "metadata": {
        "id": "RWkpnX2LyDBB",
        "colab_type": "code",
        "colab": {
          "base_uri": "https://localhost:8080/",
          "height": 103
        },
        "outputId": "f60754c3-5d6d-4820-ee33-18796693e8c7"
      },
      "source": [
        "part2=[]\n",
        "\n",
        "for i in results2:\n",
        "  for j in i.ordered_statistics:\n",
        "    temp_list=[]\n",
        "    temp_list = list(i.items)\n",
        "    temp_list_str = ';'.join(temp_list)\n",
        "    abs_support = int(i.support * 77185)\n",
        "    part2.append((str(abs_support))+':'+temp_list_str)\n",
        "\n",
        "part2 = list(set(part2))\n",
        "part2[:5]"
      ],
      "execution_count": 7,
      "outputs": [
        {
          "output_type": "execute_result",
          "data": {
            "text/plain": [
              "['874:Pubs',\n",
              " '1442:Fitness & Instruction',\n",
              " '2415:American (Traditional);Restaurants',\n",
              " '823:General Dentistry;Health & Medical',\n",
              " '2421:Nightlife;Bars;Restaurants']"
            ]
          },
          "metadata": {
            "tags": []
          },
          "execution_count": 7
        }
      ]
    },
    {
      "cell_type": "markdown",
      "metadata": {
        "id": "-18Iud0ISgym",
        "colab_type": "text"
      },
      "source": [
        "#Saving Files"
      ]
    },
    {
      "cell_type": "code",
      "metadata": {
        "id": "6fQLe5fZEN_x",
        "colab_type": "code",
        "colab": {}
      },
      "source": [
        "with open('patterns1.txt', 'w') as f:\n",
        "    for i in part1:\n",
        "        f.write(\"%s\\n\" % i)\n",
        "\n",
        "with open('patterns2.txt', 'w') as f:\n",
        "    for i in part2:\n",
        "        f.write(\"%s\\n\" % i)"
      ],
      "execution_count": 0,
      "outputs": []
    }
  ]
}